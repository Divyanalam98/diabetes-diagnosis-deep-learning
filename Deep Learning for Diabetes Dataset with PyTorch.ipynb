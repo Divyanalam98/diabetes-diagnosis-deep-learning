{
 "cells": [
  {
   "cell_type": "code",
   "execution_count": null,
   "id": "a20f9229",
   "metadata": {},
   "outputs": [],
   "source": [
    "import torch\n",
    "import torch.nn as nn"
   ]
  },
  {
   "cell_type": "code",
   "execution_count": null,
   "id": "5ccfa160",
   "metadata": {},
   "outputs": [],
   "source": [
    "import pandas as pd\n",
    "diabetes = pd.read_csv('diabetes.csv', header=None)"
   ]
  },
  {
   "cell_type": "code",
   "execution_count": null,
   "id": "1c0732ee",
   "metadata": {},
   "outputs": [],
   "source": [
    "diabetes.head()"
   ]
  },
  {
   "cell_type": "code",
   "execution_count": null,
   "id": "77855cfd",
   "metadata": {},
   "outputs": [],
   "source": [
    "diabetes.shape"
   ]
  },
  {
   "cell_type": "code",
   "execution_count": null,
   "id": "eefee33b",
   "metadata": {},
   "outputs": [],
   "source": [
    "inputs = diabetes.iloc[:, 0:8].values\n",
    "inputs"
   ]
  },
  {
   "cell_type": "code",
   "execution_count": null,
   "id": "cb1727ab",
   "metadata": {},
   "outputs": [],
   "source": [
    "import seaborn as sns\n",
    "# plotting box plot before preprocessing\n",
    "sns.boxplot(data=inputs)"
   ]
  },
  {
   "cell_type": "code",
   "execution_count": null,
   "id": "f16a220d",
   "metadata": {},
   "outputs": [],
   "source": [
    "# preprocessing: scaling to [0,1] range\n",
    "from sklearn.preprocessing import MinMaxScaler \n",
    "scaler = MinMaxScaler() \n",
    "inputs = scaler.fit_transform(inputs)"
   ]
  },
  {
   "cell_type": "code",
   "execution_count": null,
   "id": "f7c0cf10",
   "metadata": {},
   "outputs": [],
   "source": [
    "# plotting box plot after preprocessing to understand data.\n",
    "sns.boxplot(data=inputs)"
   ]
  },
  {
   "cell_type": "code",
   "execution_count": null,
   "id": "2667e129",
   "metadata": {},
   "outputs": [],
   "source": [
    "outputs = diabetes.iloc[:,8].values # as last column binary class label\n",
    "outputs"
   ]
  },
  {
   "cell_type": "code",
   "execution_count": null,
   "id": "61082d3b",
   "metadata": {},
   "outputs": [],
   "source": [
    "from sklearn.model_selection import train_test_split\n",
    "X_train, X_test, y_train, y_test = train_test_split(inputs, outputs, test_size = 0.20, train_size=0.80)"
   ]
  },
  {
   "cell_type": "code",
   "execution_count": null,
   "id": "cf7f2a71",
   "metadata": {},
   "outputs": [],
   "source": [
    "input_tensor = torch.tensor(X_train, dtype=torch.float)\n",
    "output_tensor = torch.tensor(y_train, dtype = torch.float).reshape(-1,1) \n",
    "# Reshaping as PyTorch expects matrix instead of vectors"
   ]
  },
  {
   "cell_type": "code",
   "execution_count": null,
   "id": "638d2764",
   "metadata": {},
   "outputs": [],
   "source": [
    "input_tensor.shape"
   ]
  },
  {
   "cell_type": "code",
   "execution_count": null,
   "id": "8c54d583",
   "metadata": {},
   "outputs": [],
   "source": [
    "output_tensor.shape"
   ]
  },
  {
   "cell_type": "code",
   "execution_count": null,
   "id": "5fafcad7",
   "metadata": {},
   "outputs": [],
   "source": [
    "# modifying model shown in Demo\n",
    "model = nn.Sequential(\n",
    "    nn.Linear(8, 2),\n",
    "    nn.Sigmoid(),\n",
    "    nn.Linear(2, 2),\n",
    "    nn.Sigmoid(),\n",
    "    nn.Linear(2, 1),\n",
    "    nn.Sigmoid())"
   ]
  },
  {
   "cell_type": "code",
   "execution_count": null,
   "id": "f8d433bb",
   "metadata": {},
   "outputs": [],
   "source": [
    "import torch.optim as optim\n",
    "criterion = nn.MSELoss()\n",
    "optimizer = optim.Adam(model.parameters())"
   ]
  },
  {
   "cell_type": "code",
   "execution_count": null,
   "id": "4d7d1779",
   "metadata": {},
   "outputs": [],
   "source": [
    "dataset = torch.utils.data.TensorDataset(input_tensor, output_tensor)\n",
    "train_loader = torch.utils.data.DataLoader(dataset, batch_size=10) \n",
    "# created dataloader to help iterate through the dataset.\n",
    "# tried without dataloader as per demo but all outputs are turning out to be NaN losses.\n",
    "# tried without dataloader by reshaping output tensor as well."
   ]
  },
  {
   "cell_type": "code",
   "execution_count": null,
   "id": "087342d7",
   "metadata": {},
   "outputs": [],
   "source": [
    "def accuracy(predictions, labels):\n",
    "    classes = torch.argmax(predictions, dim=1)\n",
    "    return torch.mean((classes == labels).float())\n",
    "for epoch in range(5):\n",
    "    tot_loss = 0\n",
    "    running_accuracy = 0.00\n",
    "    for data in train_loader:\n",
    "        inputs, outputs = data\n",
    "        optimizer.zero_grad()\n",
    "        predictions = model.forward(inputs)\n",
    "        loss = criterion(predictions, outputs)\n",
    "        loss.backward()\n",
    "        optimizer.step()\n",
    "        \n",
    "        tot_loss += loss.item()\n",
    "        running_accuracy += accuracy(predictions, outputs)\n",
    "   \n",
    "    print(f'{epoch + 1} loss: {tot_loss*10/len(train_loader)}')\n",
    "    running_accuracy /= len(train_loader)\n",
    "    print(\"Accuracy:\")\n",
    "    print(running_accuracy.item()*100)"
   ]
  },
  {
   "cell_type": "code",
   "execution_count": null,
   "id": "219abc20",
   "metadata": {},
   "outputs": [],
   "source": [
    "# changing the model\n",
    "model = nn.Sequential(\n",
    "    nn.Linear(8, 6),\n",
    "    nn.Sigmoid(),\n",
    "    nn.Linear(6, 6),\n",
    "    nn.Sigmoid(),\n",
    "    nn.Linear(6, 1),\n",
    "    nn.Sigmoid())"
   ]
  },
  {
   "cell_type": "code",
   "execution_count": null,
   "id": "a4f431bd",
   "metadata": {},
   "outputs": [],
   "source": [
    "criterion = nn.MSELoss()\n",
    "optimizer = optim.Adam(model.parameters())"
   ]
  },
  {
   "cell_type": "code",
   "execution_count": null,
   "id": "9f620c01",
   "metadata": {},
   "outputs": [],
   "source": [
    "dataset = torch.utils.data.TensorDataset(input_tensor, output_tensor)\n",
    "train_loader = torch.utils.data.DataLoader(dataset, batch_size=10) "
   ]
  },
  {
   "cell_type": "code",
   "execution_count": null,
   "id": "11b69a5d",
   "metadata": {},
   "outputs": [],
   "source": [
    "total=0\n",
    "for epoch in range(5):\n",
    "    tot_loss = 0\n",
    "    running_accuracy = 0.00\n",
    "    for data in train_loader:\n",
    "        inputs, outputs = data\n",
    "        optimizer.zero_grad()\n",
    "        predictions = model.forward(inputs)\n",
    "        loss = criterion(predictions, outputs)\n",
    "        loss.backward()\n",
    "        optimizer.step()\n",
    "        \n",
    "        tot_loss += loss.item()\n",
    "        running_accuracy += accuracy(predictions, outputs)\n",
    "   \n",
    "    print(f'{epoch + 1} loss: {tot_loss*10/len(train_loader)}')\n",
    "    running_accuracy /= len(train_loader)\n",
    "    print(\"Accuracy:\")\n",
    "    print(running_accuracy.item()*100)"
   ]
  },
  {
   "cell_type": "code",
   "execution_count": null,
   "id": "f022e70f",
   "metadata": {},
   "outputs": [],
   "source": [
    "# changing batch size to 30\n",
    "dataset = torch.utils.data.TensorDataset(input_tensor, output_tensor)\n",
    "train_loader = torch.utils.data.DataLoader(dataset, batch_size=30) \n",
    "total=0\n",
    "for epoch in range(5):\n",
    "    tot_loss = 0\n",
    "    running_accuracy = 0.00\n",
    "    for data in train_loader:\n",
    "        inputs, outputs = data\n",
    "        optimizer.zero_grad()\n",
    "        predictions = model.forward(inputs)\n",
    "        loss = criterion(predictions, outputs)\n",
    "        loss.backward()\n",
    "        optimizer.step()\n",
    "        \n",
    "        tot_loss += loss.item()\n",
    "        running_accuracy += accuracy(predictions, outputs)\n",
    "   \n",
    "    print(f'{epoch + 1} loss: {tot_loss*10/len(train_loader)}')\n",
    "    running_accuracy /= len(train_loader)\n",
    "    print(\"Accuracy:\")\n",
    "    print(running_accuracy.item()*100)"
   ]
  },
  {
   "cell_type": "markdown",
   "id": "a582ff9a",
   "metadata": {},
   "source": [
    "We tried changing the models and batch size. The accuracy happens to be the same. We should be changing the model and keep working with it further for better results."
   ]
  }
 ],
 "metadata": {
  "kernelspec": {
   "display_name": "Python 3 (ipykernel)",
   "language": "python",
   "name": "python3"
  },
  "language_info": {
   "codemirror_mode": {
    "name": "ipython",
    "version": 3
   },
   "file_extension": ".py",
   "mimetype": "text/x-python",
   "name": "python",
   "nbconvert_exporter": "python",
   "pygments_lexer": "ipython3",
   "version": "3.9.7"
  }
 },
 "nbformat": 4,
 "nbformat_minor": 5
}
